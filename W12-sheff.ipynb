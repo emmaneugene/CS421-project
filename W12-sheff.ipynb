{
 "cells": [
  {
   "cell_type": "markdown",
   "metadata": {},
   "source": [
    "### CS 421 PROJECT"
   ]
  },
  {
   "cell_type": "code",
   "execution_count": 1,
   "metadata": {},
   "outputs": [],
   "source": [
    "import numpy as np\n",
    "import pandas as pd\n",
    "\n",
    "# Load all previous weeks' data as training sets\n",
    "batch1=np.load(\"first_batch.npz\")\n",
    "batch2=np.load(\"second_batch_with_labels.npz\")\n",
    "batch3=np.load(\"third_batch_with_labels.npz\")"
   ]
  },
  {
   "cell_type": "code",
   "execution_count": 11,
   "metadata": {},
   "outputs": [],
   "source": [
    "X1=pd.DataFrame(batch1[\"X\"], columns=[\"user\", \"item\", \"rating\"])\n",
    "y1=pd.DataFrame(batch1[\"y\"], columns=[\"user\", \"label\"])\n",
    "X2=pd.DataFrame(batch2[\"X\"], columns=[\"user\", \"item\", \"rating\"])\n",
    "y2=pd.DataFrame(batch2[\"y\"], columns=[\"user\", \"label\"])\n",
    "X3=pd.DataFrame(batch3[\"X\"], columns=[\"user\", \"item\", \"rating\"])\n",
    "y3=pd.DataFrame(batch3[\"y\"], columns=[\"user\", \"label\"])\n",
    "\n",
    "# Concatenate all previous weeks' batches into a single dataframe each\n",
    "data_X = [X1, X2, X3]\n",
    "data_y = [y1, y2, y3]\n",
    "X = pd.concat(data_X)\n",
    "y = pd.concat(data_y)"
   ]
  },
  {
   "cell_type": "code",
   "execution_count": 6,
   "id": "3a389e7e",
   "metadata": {},
   "outputs": [
    {
     "data": {
      "text/html": [
       "<div>\n",
       "<style scoped>\n",
       "    .dataframe tbody tr th:only-of-type {\n",
       "        vertical-align: middle;\n",
       "    }\n",
       "\n",
       "    .dataframe tbody tr th {\n",
       "        vertical-align: top;\n",
       "    }\n",
       "\n",
       "    .dataframe thead th {\n",
       "        text-align: right;\n",
       "    }\n",
       "</style>\n",
       "<table border=\"1\" class=\"dataframe\">\n",
       "  <thead>\n",
       "    <tr style=\"text-align: right;\">\n",
       "      <th></th>\n",
       "      <th>user</th>\n",
       "      <th>item</th>\n",
       "      <th>rating</th>\n",
       "    </tr>\n",
       "  </thead>\n",
       "  <tbody>\n",
       "    <tr>\n",
       "      <th>0</th>\n",
       "      <td>2549</td>\n",
       "      <td>0</td>\n",
       "      <td>4</td>\n",
       "    </tr>\n",
       "    <tr>\n",
       "      <th>1</th>\n",
       "      <td>2549</td>\n",
       "      <td>30</td>\n",
       "      <td>3</td>\n",
       "    </tr>\n",
       "    <tr>\n",
       "      <th>2</th>\n",
       "      <td>2549</td>\n",
       "      <td>55</td>\n",
       "      <td>2</td>\n",
       "    </tr>\n",
       "    <tr>\n",
       "      <th>3</th>\n",
       "      <td>2549</td>\n",
       "      <td>67</td>\n",
       "      <td>2</td>\n",
       "    </tr>\n",
       "    <tr>\n",
       "      <th>4</th>\n",
       "      <td>2549</td>\n",
       "      <td>72</td>\n",
       "      <td>4</td>\n",
       "    </tr>\n",
       "  </tbody>\n",
       "</table>\n",
       "</div>"
      ],
      "text/plain": [
       "   user  item  rating\n",
       "0  2549     0       4\n",
       "1  2549    30       3\n",
       "2  2549    55       2\n",
       "3  2549    67       2\n",
       "4  2549    72       4"
      ]
     },
     "execution_count": 6,
     "metadata": {},
     "output_type": "execute_result"
    }
   ],
   "source": [
    "X.head()"
   ]
  },
  {
   "cell_type": "code",
   "execution_count": 12,
   "id": "5c5e1dad",
   "metadata": {},
   "outputs": [
    {
     "data": {
      "text/html": [
       "<div>\n",
       "<style scoped>\n",
       "    .dataframe tbody tr th:only-of-type {\n",
       "        vertical-align: middle;\n",
       "    }\n",
       "\n",
       "    .dataframe tbody tr th {\n",
       "        vertical-align: top;\n",
       "    }\n",
       "\n",
       "    .dataframe thead th {\n",
       "        text-align: right;\n",
       "    }\n",
       "</style>\n",
       "<table border=\"1\" class=\"dataframe\">\n",
       "  <thead>\n",
       "    <tr style=\"text-align: right;\">\n",
       "      <th></th>\n",
       "      <th>label</th>\n",
       "    </tr>\n",
       "  </thead>\n",
       "  <tbody>\n",
       "    <tr>\n",
       "      <th>0</th>\n",
       "      <td>0</td>\n",
       "    </tr>\n",
       "    <tr>\n",
       "      <th>1</th>\n",
       "      <td>0</td>\n",
       "    </tr>\n",
       "    <tr>\n",
       "      <th>2</th>\n",
       "      <td>0</td>\n",
       "    </tr>\n",
       "    <tr>\n",
       "      <th>3</th>\n",
       "      <td>0</td>\n",
       "    </tr>\n",
       "    <tr>\n",
       "      <th>4</th>\n",
       "      <td>0</td>\n",
       "    </tr>\n",
       "  </tbody>\n",
       "</table>\n",
       "</div>"
      ],
      "text/plain": [
       "   label\n",
       "0      0\n",
       "1      0\n",
       "2      0\n",
       "3      0\n",
       "4      0"
      ]
     },
     "execution_count": 12,
     "metadata": {},
     "output_type": "execute_result"
    }
   ],
   "source": [
    "y.drop('user', axis=1, inplace=True)\n",
    "y.head()"
   ]
  },
  {
   "cell_type": "code",
   "execution_count": 13,
   "metadata": {},
   "outputs": [],
   "source": [
    "def get_features(X: pd.DataFrame):\n",
    "  features = pd.DataFrame(X.groupby('user')['user'].max())\n",
    "  # features['mode'] = X.groupby('user')['rating'].apply(lambda x: x.mode())\n",
    "  features['mean'] = X.groupby('user')['rating'].mean()\n",
    "  features['median'] = X.groupby('user')['rating'].median()\n",
    "  features['max'] = X.groupby('user')['rating'].max()\n",
    "  features['min'] = X.groupby('user')['rating'].min()\n",
    "  features['mode'] = X.groupby('user')['rating'].apply(lambda x: x.value_counts().index[0])\n",
    "  return features\n",
    "\n",
    "# X1_features = get_features(X1)\n",
    "# X2_features = get_features(X2)\n",
    "# X3_features = get_features(X3)\n",
    "X_features = get_features(X)\n"
   ]
  },
  {
   "cell_type": "code",
   "execution_count": 77,
   "id": "bab08701",
   "metadata": {},
   "outputs": [],
   "source": [
    "from sklearn.model_selection import train_test_split\n",
    "\n",
    "# Anomaly detection methods\n",
    "from sklearn.ensemble import IsolationForest\n",
    "from sklearn.linear_model import LogisticRegression\n",
    "from sklearn.cluster import KMeans\n",
    "from sklearn.preprocessing import StandardScaler, RobustScaler\n",
    "from sklearn.mixture import GaussianMixture\n",
    "\n",
    "from sklearn.metrics import auc, roc_auc_score, precision_score, recall_score, f1_score"
   ]
  },
  {
   "cell_type": "code",
   "execution_count": 83,
   "id": "26de426e",
   "metadata": {},
   "outputs": [
    {
     "name": "stderr",
     "output_type": "stream",
     "text": [
      "/Users/sheffield/opt/anaconda3/lib/python3.9/site-packages/sklearn/linear_model/_logistic.py:814: ConvergenceWarning: lbfgs failed to converge (status=1):\n",
      "STOP: TOTAL NO. of ITERATIONS REACHED LIMIT.\n",
      "\n",
      "Increase the number of iterations (max_iter) or scale the data as shown in:\n",
      "    https://scikit-learn.org/stable/modules/preprocessing.html\n",
      "Please also refer to the documentation for alternative solver options:\n",
      "    https://scikit-learn.org/stable/modules/linear_model.html#logistic-regression\n",
      "  n_iter_i = _check_optimize_result(\n"
     ]
    },
    {
     "name": "stdout",
     "output_type": "stream",
     "text": [
      "######################### AUC SCORES ######################### \n",
      "Isolation Forest: 0.6879444304508728\n",
      "Logistic Regression: 0.8958700664587007\n",
      "KMeans: 0.5343870492724418\n",
      "Gaussian Mixture: 0.7156517021565171\n",
      "##############################################################\n"
     ]
    }
   ],
   "source": [
    "X_train, X_test, y_train, y_test = train_test_split(X_features, y, test_size=0.2, random_state=42)\n",
    "\n",
    "########### Isolation Forest ##########\n",
    "IL=IsolationForest(n_estimators=500)\n",
    "IL.fit(X_train)\n",
    "\n",
    "\n",
    "########### Logistic Regression ##########\n",
    "lr = LogisticRegression()\n",
    "lr.fit(X_train, np.ravel(y_train, order='C'))\n",
    "y_pred_lr = lr.predict_proba(X_test)[:,1]\n",
    "\n",
    "########### Kmeans ##########\n",
    "N=4 # 4 seems optimal (i tried 2 to 12 clusters)\n",
    "kmeans = KMeans(n_clusters=N, init='k-means++', max_iter=50, random_state=0)\n",
    "kmeans.fit(X_train)\n",
    "scaler=[RobustScaler() for _ in range(N)]\n",
    "distances_train, centres_train = kmeans.transform(X_train), kmeans.predict(X_train)\n",
    "distnear_train = distances_train[range(centres_train.shape[0]), centres_train]\n",
    "distances_test, centres_test = kmeans.transform(X_test), kmeans.predict(X_test)\n",
    "distnear_test = distances_test[range(centres_test.shape[0]), centres_test]\n",
    "\n",
    "for i in range(N):\n",
    "    scaler[i].fit(distnear_train[centres_train==i].reshape(-1,1))\n",
    "for i in range(N):\n",
    "    distnear_test[centres_test==i] = scaler[i].transform(distnear_test[centres_test==i].reshape(-1,1)).reshape(-1)\n",
    "    \n",
    "########## Gaussian Mixture ##########\n",
    "NN = 1\n",
    "gm = GaussianMixture(n_components=NN, random_state=0, covariance_type=\"full\").fit(X_train)\n",
    "y_pred_gm = -gm.score_samples(X_test)\n",
    "    \n",
    "    \n",
    "# Print AUC scores\n",
    "print(\"######################### AUC SCORES ######################### \")\n",
    "print(\"Isolation Forest:\", roc_auc_score(y_test,-IL.score_samples(X_test)))\n",
    "print(\"Logistic Regression:\", roc_auc_score(y_test,y_pred_lr))\n",
    "print(\"KMeans:\", roc_auc_score(y_test, distnear_test))\n",
    "print(\"Gaussian Mixture:\", roc_auc_score(y_test, y_pred_gm))\n",
    "print(\"##############################################################\")\n"
   ]
  },
  {
   "cell_type": "code",
   "execution_count": 51,
   "metadata": {},
   "outputs": [
    {
     "data": {
      "text/plain": [
       "user      1300\n",
       "item       990\n",
       "rating       6\n",
       "dtype: int64"
      ]
     },
     "execution_count": 51,
     "metadata": {},
     "output_type": "execute_result"
    }
   ],
   "source": [
    "# Load and predict on fourth batch\n",
    "batch4 = np.load('fourth_batch.npz')\n",
    "X4 = pd.DataFrame(batch4['X'], columns=[\"user\", \"item\", \"rating\"])\n",
    "X4.nunique()"
   ]
  },
  {
   "cell_type": "code",
   "execution_count": null,
   "id": "0d9a0db6",
   "metadata": {},
   "outputs": [],
   "source": [
    "X4_features = get_features(X4)\n",
    "\n",
    "y_pred_logreg = logreg.predict(X4_features)\n",
    "y_pred_proba = logreg.predict_proba(X4_features)[::,1]\n",
    "\n",
    "\n",
    "# Evaluation\n",
    "print(\"------Logistic regression evaluation metrics------\")\n",
    "print(f\"AUC: {roc_auc_score(y_test, y_pred_proba)}\")\n",
    "print(f\"Precision: {precision_score(y_test, y_pred_logreg)}\")\n",
    "print(f\"Recall: {recall_score(y_test, y_pred_logreg)}\")\n",
    "print(f\"F1: {f1_score(y_test, y_pred_logreg)}\")"
   ]
  },
  {
   "cell_type": "code",
   "execution_count": null,
   "id": "c4fc30bd",
   "metadata": {},
   "outputs": [],
   "source": [
    "predictions = pd.DataFrame(y_pred_proba, columns=['y_pred'])\n",
    "predictions"
   ]
  },
  {
   "cell_type": "code",
   "execution_count": null,
   "id": "f745d966",
   "metadata": {},
   "outputs": [],
   "source": [
    "np.savez('W11_predictions_emmanuel.npz', predictions)"
   ]
  },
  {
   "cell_type": "code",
   "execution_count": null,
   "id": "c4ec99a2",
   "metadata": {},
   "outputs": [],
   "source": []
  }
 ],
 "metadata": {
  "kernelspec": {
   "display_name": "Python 3.9.12 ('base')",
   "language": "python",
   "name": "python3"
  },
  "language_info": {
   "codemirror_mode": {
    "name": "ipython",
    "version": 3
   },
   "file_extension": ".py",
   "mimetype": "text/x-python",
   "name": "python",
   "nbconvert_exporter": "python",
   "pygments_lexer": "ipython3",
   "version": "3.9.12"
  },
  "vscode": {
   "interpreter": {
    "hash": "b90ba8b169d707a138b94be8d68279dd399565dee6c56c3cb42efbca6634816c"
   }
  }
 },
 "nbformat": 4,
 "nbformat_minor": 5
}
