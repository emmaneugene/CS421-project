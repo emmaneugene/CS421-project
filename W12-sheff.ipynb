{
 "cells": [
  {
   "cell_type": "markdown",
   "metadata": {},
   "source": [
    "### CS 421 PROJECT"
   ]
  },
  {
   "cell_type": "code",
   "execution_count": 1,
   "metadata": {},
   "outputs": [],
   "source": [
    "import numpy as np\n",
    "import pandas as pd\n",
    "\n",
    "# Load all previous weeks' data as training sets\n",
    "batch1=np.load(\"first_batch.npz\")\n",
    "batch2=np.load(\"second_batch_with_labels.npz\")\n",
    "batch3=np.load(\"third_batch_with_labels.npz\")"
   ]
  },
  {
   "cell_type": "code",
   "execution_count": 2,
   "metadata": {},
   "outputs": [],
   "source": [
    "X1=pd.DataFrame(batch1[\"X\"], columns=[\"user\", \"item\", \"rating\"])\n",
    "y1=pd.DataFrame(batch1[\"y\"], columns=[\"user\", \"label\"])\n",
    "X2=pd.DataFrame(batch2[\"X\"], columns=[\"user\", \"item\", \"rating\"])\n",
    "y2=pd.DataFrame(batch2[\"y\"], columns=[\"user\", \"label\"])\n",
    "X3=pd.DataFrame(batch3[\"X\"], columns=[\"user\", \"item\", \"rating\"])\n",
    "y3=pd.DataFrame(batch3[\"y\"], columns=[\"user\", \"label\"])\n",
    "\n",
    "# Concatenate all previous weeks' batches into a single dataframe each\n",
    "data_X = [X1, X2, X3]\n",
    "data_y = [y1, y2, y3]\n",
    "X = pd.concat(data_X)\n",
    "y = pd.concat(data_y)\n",
    "\n",
    "y.drop('user', axis=1, inplace=True)"
   ]
  },
  {
   "cell_type": "code",
   "execution_count": 22,
   "metadata": {},
   "outputs": [],
   "source": [
    "def get_features(X: pd.DataFrame):\n",
    "  features = pd.DataFrame(X.groupby('user')['user'].max())\n",
    "  features['count'] = X.groupby('user')['rating'].count()\n",
    "  features['std'] = X.groupby('user')['rating'].std()\n",
    "  features['25%'] = X.groupby('user')['rating'].quantile(0.25)\n",
    "  features['50%'] = X.groupby('user')['rating'].quantile(0.50)\n",
    "  features['75%'] = X.groupby('user')['rating'].quantile(0.75)\n",
    "  \n",
    "  features['mean'] = X.groupby('user')['rating'].mean()\n",
    "  features['median'] = X.groupby('user')['rating'].median()\n",
    "  features['max'] = X.groupby('user')['rating'].max()\n",
    "  features['min'] = X.groupby('user')['rating'].min()\n",
    "  features['mode'] = X.groupby('user')['rating'].apply(lambda x: x.value_counts().index[0])\n",
    "  return features\n",
    "\n",
    "X_features = get_features(X)\n",
    "X_features = X_features.fillna(0)\n",
    "\n"
   ]
  },
  {
   "cell_type": "code",
   "execution_count": 23,
   "id": "bab08701",
   "metadata": {},
   "outputs": [],
   "source": [
    "from sklearn.model_selection import train_test_split\n",
    "\n",
    "# Anomaly detection methods\n",
    "from sklearn.ensemble import IsolationForest\n",
    "from sklearn.linear_model import LogisticRegression\n",
    "from sklearn.cluster import KMeans\n",
    "from sklearn.preprocessing import StandardScaler, RobustScaler\n",
    "from sklearn.mixture import GaussianMixture\n",
    "\n",
    "from sklearn.metrics import auc, roc_auc_score, precision_score, recall_score, f1_score"
   ]
  },
  {
   "cell_type": "code",
   "execution_count": 24,
   "id": "26de426e",
   "metadata": {},
   "outputs": [
    {
     "name": "stdout",
     "output_type": "stream",
     "text": [
      "######################### AUC SCORES ######################### \n",
      "Isolation Forest: 0.6727926217279262\n",
      "Logistic Regression: 0.9042306872565926\n",
      "KMeans: 0.5310641142392125\n",
      "Gaussian Mixture: 0.6878039565208968\n",
      "##############################################################\n"
     ]
    }
   ],
   "source": [
    "X_train, X_test, y_train, y_test = train_test_split(X_features, y, test_size=0.2, random_state=42)\n",
    "\n",
    "########### Isolation Forest ##########\n",
    "IL=IsolationForest(n_estimators=500)\n",
    "IL.fit(X_train)\n",
    "\n",
    "########### Logistic Regression ##########\n",
    "lr = LogisticRegression()\n",
    "lr.fit(X_train, np.ravel(y_train, order='C'))\n",
    "y_pred_lr = lr.predict_proba(X_test)[:,1]\n",
    "\n",
    "########### Kmeans ##########\n",
    "N=4 # 4 seems optimal (i tried 2 to 12 clusters)\n",
    "kmeans = KMeans(n_clusters=N, init='k-means++', max_iter=50, random_state=0)\n",
    "kmeans.fit(X_train)\n",
    "scaler=[RobustScaler() for _ in range(N)]\n",
    "distances_train, centres_train = kmeans.transform(X_train), kmeans.predict(X_train)\n",
    "distnear_train = distances_train[range(centres_train.shape[0]), centres_train]\n",
    "distances_test, centres_test = kmeans.transform(X_test), kmeans.predict(X_test)\n",
    "distnear_test = distances_test[range(centres_test.shape[0]), centres_test]\n",
    "\n",
    "for i in range(N):\n",
    "    scaler[i].fit(distnear_train[centres_train==i].reshape(-1,1))\n",
    "for i in range(N):\n",
    "    distnear_test[centres_test==i] = scaler[i].transform(distnear_test[centres_test==i].reshape(-1,1)).reshape(-1)\n",
    "    \n",
    "########## Gaussian Mixture ##########\n",
    "NN = 1\n",
    "gm = GaussianMixture(n_components=NN, random_state=0, covariance_type=\"full\").fit(X_train)\n",
    "y_pred_gm = -gm.score_samples(X_test)\n",
    "    \n",
    "    \n",
    "# Print AUC scores\n",
    "print(\"######################### AUC SCORES ######################### \")\n",
    "print(\"Isolation Forest:\", roc_auc_score(y_test,-IL.score_samples(X_test)))\n",
    "print(\"Logistic Regression:\", roc_auc_score(y_test,y_pred_lr))\n",
    "print(\"KMeans:\", roc_auc_score(y_test, distnear_test))\n",
    "print(\"Gaussian Mixture:\", roc_auc_score(y_test, y_pred_gm))\n",
    "print(\"##############################################################\")\n"
   ]
  },
  {
   "cell_type": "code",
   "execution_count": 25,
   "metadata": {},
   "outputs": [],
   "source": [
    "# Load and predict on fourth batch\n",
    "batch4 = np.load('fourth_batch_with_labels.npz')\n",
    "X4 = pd.DataFrame(batch4['X'], columns=[\"user\", \"item\", \"rating\"])\n",
    "y4 = pd.DataFrame(batch4['y'], columns=[\"user\", \"label\"])  \n",
    "y4.drop(\"user\", axis=1, inplace=True)\n",
    "\n",
    "# Get features on 4th batch\n",
    "X4_features = get_features(X4)"
   ]
  },
  {
   "cell_type": "code",
   "execution_count": 26,
   "id": "0d9a0db6",
   "metadata": {},
   "outputs": [
    {
     "name": "stdout",
     "output_type": "stream",
     "text": [
      "------Logistic regression evaluation metrics------\n",
      "AUC: 0.7724233333333332\n",
      "F1: 0.5112262521588947\n",
      "Precision: 0.5304659498207885\n",
      "Recall: 0.49333333333333335\n"
     ]
    }
   ],
   "source": [
    "# Logistic Regression\n",
    "lr.fit(X_features, np.ravel(y, order='C'))\n",
    "y_pred_logreg = lr.predict(X4_features)\n",
    "y_pred_proba = lr.predict_proba(X4_features)[::,1]\n",
    "\n",
    "\n",
    "# Evaluation\n",
    "print(\"------Logistic regression evaluation metrics------\")\n",
    "print(f\"AUC: {roc_auc_score(y4, y_pred_proba)}\")\n",
    "print(f\"F1: {f1_score(y4, y_pred_logreg)}\")\n",
    "print(f\"Precision: {precision_score(y4, y_pred_logreg)}\")\n",
    "print(f\"Recall: {recall_score(y4, y_pred_logreg)}\")\n"
   ]
  },
  {
   "cell_type": "code",
   "execution_count": 27,
   "id": "87521247",
   "metadata": {},
   "outputs": [
    {
     "name": "stdout",
     "output_type": "stream",
     "text": [
      "######################### AUC SCORES ######################### \n",
      "Isolation Forest: 0.6889433333333332\n",
      "Logistic Regression: 0.7724233333333332\n",
      "Gaussian Mixture: 0.6823166666666667\n",
      "##############################################################\n"
     ]
    }
   ],
   "source": [
    "### Prediction on 4th batch \n",
    "\n",
    "########### Isolation Forest ##########\n",
    "IL=IsolationForest(n_estimators=500)\n",
    "IL.fit(X_features)\n",
    "\n",
    "########### Logistic Regression ##########\n",
    "lr = LogisticRegression()\n",
    "lr.fit(X_features, np.ravel(y, order='C'))\n",
    "y_pred_lr = lr.predict_proba(X4_features)[:,1]\n",
    "\n",
    "########### Kmeans ##########\n",
    "# N=3 # 4 seems optimal (i tried 2 to 12 clusters)\n",
    "# kmeans = KMeans(n_clusters=N, init='k-means++', max_iter=50, random_state=0)\n",
    "# kmeans.fit(X_features)\n",
    "# scaler=[RobustScaler() for _ in range(N)]\n",
    "# distances_train, centres_train = kmeans.transform(X_features), kmeans.predict(X_features)\n",
    "# distnear_train = distances_train[range(centres_train.shape[0]), centres_train]\n",
    "# distances_test, centres_test = kmeans.transform(X4_features), kmeans.predict(X4_features)\n",
    "# distnear_test = distances_test[range(centres_test.shape[0]), centres_test]\n",
    "\n",
    "# for i in range(N):\n",
    "#     scaler[i].fit(distnear_train[centres_train==i].reshape(-1,1))\n",
    "# for i in range(N):\n",
    "#     distnear_test[centres_test==i] = scaler[i].transform(distnear_test[centres_test==i].reshape(-1,1)).reshape(-1)\n",
    "\n",
    "    \n",
    "########## Gaussian Mixture ##########\n",
    "NN = 1\n",
    "gm = GaussianMixture(n_components=NN, random_state=0, covariance_type=\"full\").fit(X_train)\n",
    "y_pred_gm = -gm.score_samples(X4_features)\n",
    "    \n",
    "    \n",
    "# Print AUC scores\n",
    "print(\"######################### AUC SCORES ######################### \")\n",
    "print(\"Isolation Forest:\", roc_auc_score(y4,-IL.score_samples(X4_features)))\n",
    "print(\"Logistic Regression:\", roc_auc_score(y4,y_pred_lr))\n",
    "# print(\"KMeans:\", roc_auc_score(y_test, distnear_test))\n",
    "print(\"Gaussian Mixture:\", roc_auc_score(y4, y_pred_gm))\n",
    "print(\"##############################################################\")"
   ]
  },
  {
   "cell_type": "code",
   "execution_count": null,
   "id": "c4fc30bd",
   "metadata": {},
   "outputs": [],
   "source": [
    "predictions = pd.DataFrame(y_pred_proba, columns=['y_pred'])\n",
    "predictions"
   ]
  },
  {
   "cell_type": "code",
   "execution_count": null,
   "id": "f745d966",
   "metadata": {},
   "outputs": [],
   "source": [
    "np.savez('W11_predictions_emmanuel.npz', predictions)"
   ]
  },
  {
   "cell_type": "code",
   "execution_count": null,
   "id": "c4ec99a2",
   "metadata": {},
   "outputs": [],
   "source": []
  }
 ],
 "metadata": {
  "kernelspec": {
   "display_name": "Python 3.9.12 ('base')",
   "language": "python",
   "name": "python3"
  },
  "language_info": {
   "codemirror_mode": {
    "name": "ipython",
    "version": 3
   },
   "file_extension": ".py",
   "mimetype": "text/x-python",
   "name": "python",
   "nbconvert_exporter": "python",
   "pygments_lexer": "ipython3",
   "version": "3.9.12"
  },
  "vscode": {
   "interpreter": {
    "hash": "b90ba8b169d707a138b94be8d68279dd399565dee6c56c3cb42efbca6634816c"
   }
  }
 },
 "nbformat": 4,
 "nbformat_minor": 5
}
